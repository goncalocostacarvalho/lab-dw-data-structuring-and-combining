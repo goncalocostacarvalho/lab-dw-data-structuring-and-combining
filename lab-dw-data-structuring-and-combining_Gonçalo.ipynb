{
 "cells": [
  {
   "cell_type": "markdown",
   "id": "25d7736c-ba17-4aff-b6bb-66eba20fbf4e",
   "metadata": {
    "id": "25d7736c-ba17-4aff-b6bb-66eba20fbf4e"
   },
   "source": [
    "# Lab | Data Structuring and Combining Data"
   ]
  },
  {
   "cell_type": "markdown",
   "id": "a2cdfc70-44c8-478c-81e7-2bc43fdf4986",
   "metadata": {
    "id": "a2cdfc70-44c8-478c-81e7-2bc43fdf4986"
   },
   "source": [
    "## Challenge 1: Combining & Cleaning Data\n",
    "\n",
    "In this challenge, we will be working with the customer data from an insurance company, as we did in the two previous labs. The data can be found here:\n",
    "- https://raw.githubusercontent.com/data-bootcamp-v4/data/main/file1.csv\n",
    "\n",
    "But this time, we got new data, which can be found in the following 2 CSV files located at the links below.\n",
    "\n",
    "- https://raw.githubusercontent.com/data-bootcamp-v4/data/main/file2.csv\n",
    "- https://raw.githubusercontent.com/data-bootcamp-v4/data/main/file3.csv\n",
    "\n",
    "Note that you'll need to clean and format the new data.\n",
    "\n",
    "Observation:\n",
    "- One option is to first combine the three datasets and then apply the cleaning function to the new combined dataset\n",
    "- Another option would be to read the clean file you saved in the previous lab, and just clean the two new files and concatenate the three clean datasets"
   ]
  },
  {
   "cell_type": "code",
   "execution_count": null,
   "id": "1079e035",
   "metadata": {},
   "outputs": [],
   "source": [
    "import pandas as pd"
   ]
  },
  {
   "cell_type": "code",
   "execution_count": null,
   "id": "492d06e3-92c7-4105-ac72-536db98d3244",
   "metadata": {
    "id": "492d06e3-92c7-4105-ac72-536db98d3244"
   },
   "outputs": [],
   "source": [
    "# Your code goes here\n",
    "link_1=\"https://raw.githubusercontent.com/data-bootcamp-v4/data/main/file1.csv\"\n",
    "df_1=pd.read_csv(link_1)\n",
    "df_1.columns=df_1.columns.str.lower().str.replace(\" \",\"_\")\n",
    "df_1.rename(columns= {'st': 'state'}, inplace=True)\n",
    "df_1"
   ]
  },
  {
   "cell_type": "code",
   "execution_count": null,
   "id": "910e69ff",
   "metadata": {},
   "outputs": [],
   "source": [
    "link_2=\"https://raw.githubusercontent.com/data-bootcamp-v4/data/main/file2.csv\"\n",
    "df_2=pd.read_csv(link_2)\n",
    "df_2.columns=df_2.columns.str.lower().str.replace(\" \",\"_\")\n",
    "df_2.rename(columns= {'st': 'state'}, inplace=True)\n",
    "df_2"
   ]
  },
  {
   "cell_type": "code",
   "execution_count": null,
   "id": "40fdfb41",
   "metadata": {},
   "outputs": [],
   "source": [
    "link_3=\"https://raw.githubusercontent.com/data-bootcamp-v4/data/main/file3.csv\"\n",
    "df_3=pd.read_csv(link_3)\n",
    "df_3.columns=df_3.columns.str.lower().str.replace(\" \",\"_\")\n",
    "df_3.rename(columns= {'st': 'state'}, inplace=True)\n",
    "df_3"
   ]
  },
  {
   "cell_type": "code",
   "execution_count": null,
   "id": "d72db1c7",
   "metadata": {},
   "outputs": [],
   "source": [
    "df_1"
   ]
  },
  {
   "cell_type": "code",
   "execution_count": null,
   "id": "dd3144f4",
   "metadata": {},
   "outputs": [],
   "source": [
    "df_2"
   ]
  },
  {
   "cell_type": "code",
   "execution_count": null,
   "id": "0b5e75e5",
   "metadata": {},
   "outputs": [],
   "source": [
    "df_3"
   ]
  },
  {
   "cell_type": "code",
   "execution_count": null,
   "id": "8fb12da6",
   "metadata": {
    "scrolled": true
   },
   "outputs": [],
   "source": [
    "df_full_merge=pd.concat([df_1,df_2,df_3])\n",
    "df_full_merge"
   ]
  },
  {
   "cell_type": "code",
   "execution_count": null,
   "id": "56e33963",
   "metadata": {},
   "outputs": [],
   "source": [
    "df_full_merge.dropna(inplace=True)"
   ]
  },
  {
   "cell_type": "code",
   "execution_count": null,
   "id": "4128371e",
   "metadata": {},
   "outputs": [],
   "source": [
    "df_full_merge.gender.value_counts()"
   ]
  },
  {
   "cell_type": "code",
   "execution_count": null,
   "id": "c10e25fe",
   "metadata": {},
   "outputs": [],
   "source": [
    "df_full_merge['gender'].replace(('Femal','female'), \"F\" ,inplace=True)\n",
    "df_full_merge['gender'].replace(('Male'), \"M\" ,inplace=True)"
   ]
  },
  {
   "cell_type": "code",
   "execution_count": null,
   "id": "9fdac46d",
   "metadata": {},
   "outputs": [],
   "source": [
    "df_full_merge.gender.value_counts()"
   ]
  },
  {
   "cell_type": "code",
   "execution_count": null,
   "id": "aac17a12",
   "metadata": {},
   "outputs": [],
   "source": [
    "df_full_merge.state.value_counts()"
   ]
  },
  {
   "cell_type": "code",
   "execution_count": null,
   "id": "df5570f4",
   "metadata": {},
   "outputs": [],
   "source": [
    "df_full_merge['state'].replace(('AZ'), \"Arizona\" ,inplace=True)\n",
    "df_full_merge['state'].replace(('WA'), \"Washington\" ,inplace=True)\n",
    "df_full_merge['state'].replace(('Cali'), \"California\" ,inplace=True)"
   ]
  },
  {
   "cell_type": "code",
   "execution_count": null,
   "id": "96c5badf",
   "metadata": {},
   "outputs": [],
   "source": [
    "df_full_merge.state.value_counts()"
   ]
  },
  {
   "cell_type": "code",
   "execution_count": null,
   "id": "2ba5e442",
   "metadata": {},
   "outputs": [],
   "source": [
    "df_full_merge.education.value_counts()"
   ]
  },
  {
   "cell_type": "code",
   "execution_count": null,
   "id": "12923a81",
   "metadata": {},
   "outputs": [],
   "source": [
    "df_full_merge['education'].replace(('Bachelors'), \"Bachelor\" ,inplace=True)"
   ]
  },
  {
   "cell_type": "markdown",
   "id": "31b8a9e7-7db9-4604-991b-ef6771603e57",
   "metadata": {
    "id": "31b8a9e7-7db9-4604-991b-ef6771603e57"
   },
   "source": [
    "# Challenge 2: Structuring Data"
   ]
  },
  {
   "cell_type": "markdown",
   "id": "a877fd6d-7a0c-46d2-9657-f25036e4ca4b",
   "metadata": {
    "id": "a877fd6d-7a0c-46d2-9657-f25036e4ca4b"
   },
   "source": [
    "In this challenge, we will continue to work with customer data from an insurance company, but we will use a dataset with more columns, called marketing_customer_analysis.csv, which can be found at the following link:\n",
    "\n",
    "https://raw.githubusercontent.com/data-bootcamp-v4/data/main/marketing_customer_analysis_clean.csv\n",
    "\n",
    "This dataset contains information such as customer demographics, policy details, vehicle information, and the customer's response to the last marketing campaign. Our goal is to explore and analyze this data by performing data cleaning, formatting, and structuring."
   ]
  },
  {
   "cell_type": "code",
   "execution_count": null,
   "id": "aa10d9b0-1c27-4d3f-a8e4-db6ab73bfd26",
   "metadata": {
    "id": "aa10d9b0-1c27-4d3f-a8e4-db6ab73bfd26"
   },
   "outputs": [],
   "source": [
    "link=\"https://raw.githubusercontent.com/data-bootcamp-v4/data/main/marketing_customer_analysis_clean.csv\"\n",
    "df=pd.read_csv(link)"
   ]
  },
  {
   "cell_type": "code",
   "execution_count": null,
   "id": "5730c95b",
   "metadata": {},
   "outputs": [],
   "source": [
    "df.head()"
   ]
  },
  {
   "cell_type": "code",
   "execution_count": null,
   "id": "70438194",
   "metadata": {},
   "outputs": [],
   "source": [
    "pd.set_option('display.max_columns',500)"
   ]
  },
  {
   "cell_type": "code",
   "execution_count": null,
   "id": "e463573c",
   "metadata": {},
   "outputs": [],
   "source": [
    "df.head()"
   ]
  },
  {
   "cell_type": "code",
   "execution_count": null,
   "id": "27d597b7",
   "metadata": {},
   "outputs": [],
   "source": [
    "summary_table=df.pivot_table(index=\"sales_channel\",values=\"total_claim_amount\")\n",
    "summary_table"
   ]
  },
  {
   "cell_type": "code",
   "execution_count": null,
   "id": "a056ad56",
   "metadata": {},
   "outputs": [],
   "source": [
    "summary_table[\"total_revenue\"]=summary_table[\"total_claim_amount\"].round(2)"
   ]
  },
  {
   "cell_type": "code",
   "execution_count": null,
   "id": "e04a1110",
   "metadata": {
    "scrolled": true
   },
   "outputs": [],
   "source": [
    "new_summary_table=summary_table.drop(columns=\"total_claim_amount\")"
   ]
  },
  {
   "cell_type": "code",
   "execution_count": null,
   "id": "3c336bcb",
   "metadata": {},
   "outputs": [],
   "source": [
    "summary_table"
   ]
  },
  {
   "cell_type": "code",
   "execution_count": null,
   "id": "84a5a8b9",
   "metadata": {
    "scrolled": true
   },
   "outputs": [],
   "source": [
    "new_summary_table"
   ]
  },
  {
   "cell_type": "code",
   "execution_count": null,
   "id": "e77748ba",
   "metadata": {},
   "outputs": [],
   "source": [
    "pivot_table=df.pivot_table(index=\"education\",columns=\"gender\", values=\"customer_lifetime_value\")"
   ]
  },
  {
   "cell_type": "code",
   "execution_count": null,
   "id": "bc6dc3a4",
   "metadata": {},
   "outputs": [],
   "source": [
    "pivot_table_2=df.pivot_table(index=\"education\",columns=\"gender\", values=\"customer_lifetime_value\",aggfunc=\"max\")"
   ]
  },
  {
   "cell_type": "code",
   "execution_count": null,
   "id": "4c8a1780",
   "metadata": {},
   "outputs": [],
   "source": [
    "pivot_table #by default it makes mean"
   ]
  },
  {
   "cell_type": "code",
   "execution_count": null,
   "id": "a4029d2d",
   "metadata": {},
   "outputs": [],
   "source": [
    "pivot_table_2"
   ]
  },
  {
   "cell_type": "markdown",
   "id": "df35fd0d-513e-4e77-867e-429da10a9cc7",
   "metadata": {
    "id": "df35fd0d-513e-4e77-867e-429da10a9cc7"
   },
   "source": [
    "1. You work at the marketing department and you want to know which sales channel brought the most sales in terms of total revenue. Using pivot, create a summary table showing the total revenue for each sales channel (branch, call center, web, and mail).\n",
    "Round the total revenue to 2 decimal points.  Analyze the resulting table to draw insights."
   ]
  },
  {
   "cell_type": "markdown",
   "id": "640993b2-a291-436c-a34d-a551144f8196",
   "metadata": {
    "id": "640993b2-a291-436c-a34d-a551144f8196"
   },
   "source": [
    "2. Create a pivot table that shows the average customer lifetime value per gender and education level. Analyze the resulting table to draw insights."
   ]
  },
  {
   "cell_type": "markdown",
   "id": "32c7f2e5-3d90-43e5-be33-9781b6069198",
   "metadata": {
    "id": "32c7f2e5-3d90-43e5-be33-9781b6069198"
   },
   "source": [
    "## Bonus\n",
    "\n",
    "You work at the customer service department and you want to know which months had the highest number of complaints by policy type category. Create a summary table showing the number of complaints by policy type and month.\n",
    "Show it in a long format table."
   ]
  },
  {
   "cell_type": "markdown",
   "id": "e3d09a8f-953c-448a-a5f8-2e5a8cca7291",
   "metadata": {
    "id": "e3d09a8f-953c-448a-a5f8-2e5a8cca7291"
   },
   "source": [
    "*In data analysis, a long format table is a way of structuring data in which each observation or measurement is stored in a separate row of the table. The key characteristic of a long format table is that each column represents a single variable, and each row represents a single observation of that variable.*\n",
    "\n",
    "*More information about long and wide format tables here: https://www.statology.org/long-vs-wide-data/*"
   ]
  },
  {
   "cell_type": "code",
   "execution_count": null,
   "id": "3a069e0b-b400-470e-904d-d17582191be4",
   "metadata": {
    "id": "3a069e0b-b400-470e-904d-d17582191be4"
   },
   "outputs": [],
   "source": [
    "# Your code goes here"
   ]
  }
 ],
 "metadata": {
  "colab": {
   "provenance": []
  },
  "kernelspec": {
   "display_name": "Python 3 (ipykernel)",
   "language": "python",
   "name": "python3"
  },
  "language_info": {
   "codemirror_mode": {
    "name": "ipython",
    "version": 3
   },
   "file_extension": ".py",
   "mimetype": "text/x-python",
   "name": "python",
   "nbconvert_exporter": "python",
   "pygments_lexer": "ipython3",
   "version": "3.11.5"
  }
 },
 "nbformat": 4,
 "nbformat_minor": 5
}
